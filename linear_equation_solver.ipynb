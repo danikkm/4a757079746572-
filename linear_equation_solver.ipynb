{
 "cells": [
  {
   "cell_type": "code",
   "execution_count": 17,
   "metadata": {},
   "outputs": [],
   "source": [
    "%load_ext blackcellmagic"
   ]
  },
  {
   "cell_type": "code",
   "execution_count": 3,
   "metadata": {},
   "outputs": [],
   "source": [
    "import numpy as np\n",
    "import scipy.linalg   # SciPy Linear Algebra Library\n",
    "import math\n",
    "from pprint import pprint\n",
    "from numpy import array, zeros, diag, diagflat, dot"
   ]
  },
  {
   "cell_type": "markdown",
   "metadata": {},
   "source": [
    "# Tiesinių algebrinių lygčių sistemų sprendimas"
   ]
  },
  {
   "cell_type": "code",
   "execution_count": 26,
   "metadata": {},
   "outputs": [
    {
     "name": "stdout",
     "output_type": "stream",
     "text": [
      "x 1 = 4.0\n",
      "x 2 = 4.0\n",
      "x 3 = 2.9999999999999996\n",
      "[4. 4. 3.]\n"
     ]
    }
   ],
   "source": [
    "# Gauso metodas\n",
    "\n",
    "a = np.array([[2, -1, 0], [-1, 2, -1], [0, -1, 2]])\n",
    "b = np.array([4, 1, 2])\n",
    "x = np.linalg.solve(a, b)\n",
    "for i in range(0, len(x)):\n",
    "    print(\"x\", i + 1, \"=\", x[i])\n",
    "print(x)\n"
   ]
  },
  {
   "cell_type": "code",
   "execution_count": 16,
   "metadata": {},
   "outputs": [
    {
     "name": "stdout",
     "output_type": "stream",
     "text": [
      "[[1.41421356 0.         0.        ]\n",
      " [0.70710678 1.41421356 0.        ]\n",
      " [0.70710678 0.35355339 1.5411035 ]]\n",
      "[[1.41421356 0.70710678 0.70710678]\n",
      " [0.         1.41421356 0.35355339]\n",
      " [0.         0.         1.5411035 ]]\n",
      "[ 2.12132034  2.47487373 -1.5411035 ]\n",
      "\n",
      "\n",
      "x 1 = 0.9999999999999999\n",
      "x 2 = 2.0\n",
      "x 3 = -1.0000000000000002\n",
      "[ 1.  2. -1.]\n"
     ]
    }
   ],
   "source": [
    "# Choleckio metodas\n",
    "\"\"\"\n",
    "https://www.quantstart.com/articles/Cholesky-Decomposition-in-Python-and-NumPy\n",
    "\"\"\"\n",
    "\n",
    "\n",
    "A = scipy.array([[2, 1, 1], [1, 2.5, 1], [1, 1, 3]])\n",
    "b = scipy.array([3, 5, 0])\n",
    "L_lower = scipy.linalg.cholesky(A, lower=True)\n",
    "L_upper = scipy.linalg.cholesky(A, lower=False)\n",
    "\n",
    "print(L_lower)\n",
    "L_t = np.transpose(L_lower)\n",
    "print(L_t)\n",
    "\n",
    "y = np.linalg.solve(L_lower, b)\n",
    "print(y)\n",
    "x = np.linalg.solve(L_upper, y)\n",
    "\n",
    "print(\"\\n\")\n",
    "for i in range(0, len(x)):\n",
    "    print(\"x\", i + 1, \"=\", x[i])\n",
    "print(x)\n"
   ]
  },
  {
   "cell_type": "markdown",
   "metadata": {},
   "source": [
    "![title](img/1.jpg)"
   ]
  },
  {
   "cell_type": "code",
   "execution_count": 43,
   "metadata": {},
   "outputs": [
    {
     "name": "stdout",
     "output_type": "stream",
     "text": [
      "[2 0 2]\n"
     ]
    }
   ],
   "source": [
    "# Tridiagonal matrix algorithm, also known as the Thomas algorithm (Perkelties)\n",
    "\n",
    "def TDMASolve(a, b, c, d):\n",
    "    n = len(a)\n",
    "    ac, bc, cc, dc = map(np.array, (a, b, c, d))\n",
    "    xc = []\n",
    "    for j in range(2, n):\n",
    "        if(bc[j - 1] == 0):\n",
    "            ier = 1\n",
    "            return\n",
    "        ac[j] = ac[j]/bc[j-1]\n",
    "        bc[j] = bc[j] - ac[j]*cc[j-1]\n",
    "    if(b[n-1] == 0):\n",
    "        ier = 1\n",
    "        return\n",
    "    for j in range(2, n):\n",
    "        dc[j] = dc[j] - ac[j]*dc[j-1]\n",
    "    dc[n-1] = dc[n-1]/bc[n-1]\n",
    "    for j in range(n-2, -1, -1):\n",
    "        dc[j] = (dc[j] - cc[j]*dc[j+1])/bc[j]\n",
    "    return dc\n",
    "\n",
    "#A = np.array([[2, -2, 0, 0], [1, 13, 3, 0], [0, 1, 9, 2], [0, 0, -2, -15]])\n",
    "\n",
    "a = np.array([-1,-1])  # A diagonal\n",
    "b = np.array([2,2,2])  # B diagonal\n",
    "c = np.array([-1,-1])  # C diagonal\n",
    "\n",
    "d = np.array([4,1,2])  # known matrix\n",
    "\n",
    "print(TDMASolve(a, b, c, d))\n"
   ]
  },
  {
   "cell_type": "markdown",
   "metadata": {},
   "source": [
    "# Iteraciniai sprendimo metodai"
   ]
  },
  {
   "cell_type": "code",
   "execution_count": 2,
   "metadata": {},
   "outputs": [
    {
     "ename": "NameError",
     "evalue": "name 'array' is not defined",
     "output_type": "error",
     "traceback": [
      "\u001b[0;31m---------------------------------------------------------------------------\u001b[0m",
      "\u001b[0;31mNameError\u001b[0m                                 Traceback (most recent call last)",
      "\u001b[0;32m<ipython-input-2-8750673fc04d>\u001b[0m in \u001b[0;36m<module>\u001b[0;34m\u001b[0m\n\u001b[1;32m     19\u001b[0m     \u001b[0;32mreturn\u001b[0m \u001b[0mx\u001b[0m\u001b[0;34m\u001b[0m\u001b[0;34m\u001b[0m\u001b[0m\n\u001b[1;32m     20\u001b[0m \u001b[0;34m\u001b[0m\u001b[0m\n\u001b[0;32m---> 21\u001b[0;31m \u001b[0mA\u001b[0m \u001b[0;34m=\u001b[0m \u001b[0marray\u001b[0m\u001b[0;34m(\u001b[0m\u001b[0;34m[\u001b[0m\u001b[0;34m[\u001b[0m\u001b[0;36m6\u001b[0m\u001b[0;34m,\u001b[0m\u001b[0;36m3\u001b[0m\u001b[0;34m,\u001b[0m\u001b[0;36m0\u001b[0m\u001b[0;34m]\u001b[0m\u001b[0;34m,\u001b[0m\u001b[0;34m[\u001b[0m\u001b[0;36m3\u001b[0m\u001b[0;34m,\u001b[0m\u001b[0;36m6\u001b[0m\u001b[0;34m,\u001b[0m\u001b[0;36m3\u001b[0m\u001b[0;34m]\u001b[0m\u001b[0;34m,\u001b[0m \u001b[0;34m[\u001b[0m\u001b[0;36m0\u001b[0m\u001b[0;34m,\u001b[0m \u001b[0;36m3\u001b[0m\u001b[0;34m,\u001b[0m \u001b[0;36m6\u001b[0m\u001b[0;34m]\u001b[0m\u001b[0;34m]\u001b[0m\u001b[0;34m)\u001b[0m\u001b[0;34m\u001b[0m\u001b[0;34m\u001b[0m\u001b[0m\n\u001b[0m\u001b[1;32m     22\u001b[0m \u001b[0mb\u001b[0m \u001b[0;34m=\u001b[0m \u001b[0marray\u001b[0m\u001b[0;34m(\u001b[0m\u001b[0;34m[\u001b[0m\u001b[0;36m0\u001b[0m\u001b[0;34m,\u001b[0m\u001b[0;36m0\u001b[0m\u001b[0;34m,\u001b[0m\u001b[0;36m1\u001b[0m\u001b[0;34m]\u001b[0m\u001b[0;34m)\u001b[0m\u001b[0;34m\u001b[0m\u001b[0;34m\u001b[0m\u001b[0m\n\u001b[1;32m     23\u001b[0m \u001b[0mguess\u001b[0m \u001b[0;34m=\u001b[0m \u001b[0marray\u001b[0m\u001b[0;34m(\u001b[0m\u001b[0;34m[\u001b[0m\u001b[0;36m0\u001b[0m\u001b[0;34m,\u001b[0m \u001b[0;36m0\u001b[0m\u001b[0;34m,\u001b[0m \u001b[0;36m0\u001b[0m\u001b[0;34m]\u001b[0m\u001b[0;34m)\u001b[0m\u001b[0;34m\u001b[0m\u001b[0;34m\u001b[0m\u001b[0m\n",
      "\u001b[0;31mNameError\u001b[0m: name 'array' is not defined"
     ]
    }
   ],
   "source": [
    "#Jakobio metodas\n",
    "\"\"\"\n",
    "https://www.quantstart.com/articles/Jacobi-Method-in-Python-and-NumPy\n",
    "\"\"\"\n",
    "def jacobi(A,b,N,x=None):\n",
    "    \"\"\"Solves the equation Ax=b via the Jacobi iterative method.\"\"\"\n",
    "    # Create an initial guess if needed                                                                                                                                                            \n",
    "    if x is None:\n",
    "        x = zeros(len(A[0]))\n",
    "\n",
    "    # Create a vector of the diagonal elements of A                                                                                                                                                \n",
    "    # and subtract them from A                                                                                                                                                                     \n",
    "    D = diag(A)\n",
    "    R = A - diagflat(D)\n",
    "\n",
    "    # Iterate for N times                                                                                                                                                                          \n",
    "    for i in range(N):\n",
    "        x = (b - dot(R,x)) / D\n",
    "    return x\n",
    "\n",
    "A = array([[6,3,0],[3,6,3], [0, 3, 6]])\n",
    "b = array([0,0,1])\n",
    "guess = array([0, 0, 0])\n",
    "\n",
    "sol = jacobi(A,b,N=2,x=None)\n",
    "\n",
    "print(\"A:\")\n",
    "pprint(A)\n",
    "\n",
    "print(\"b:\")\n",
    "pprint(b)\n",
    "\n",
    "print(\"x:\")\n",
    "pprint(sol)"
   ]
  },
  {
   "cell_type": "code",
   "execution_count": 190,
   "metadata": {},
   "outputs": [
    {
     "name": "stdout",
     "output_type": "stream",
     "text": [
      "Guess:\n",
      "001 \n",
      "\n",
      "[ 0.          0.16666667 -0.08333333]\n",
      "002 \n",
      "\n",
      "[-0.08333333  0.25       -0.125     ]\n",
      "[-0.08333333  0.25       -0.125     ] \n",
      "\n",
      "Real solution:\n",
      "x 1 = -0.16666666666666666\n",
      "x 2 = 0.3333333333333333\n",
      "x 3 = -0.16666666666666666\n",
      "[-0.16666667  0.33333333 -0.16666667]\n"
     ]
    }
   ],
   "source": [
    "#Zeidelio metodas 1\n",
    "def gauss(A, b, x, n):\n",
    "\n",
    "    L = np.tril(A)\n",
    "    U = A - L\n",
    "    for i in range(n):\n",
    "        x = np.dot(np.linalg.inv(L), b - np.dot(U, x))\n",
    "        print (str(i + 1).zfill(3), \"\\n\"),\n",
    "        print(x)\n",
    "    return x\n",
    "\n",
    "\n",
    "A = np.array([[6,3,0], [3,6,3], [0,3,6]])\n",
    "b = [0,1,0]\n",
    "x = [0,0,0]\n",
    "\n",
    "n = 2\n",
    "\n",
    "print(\"Guess:\")\n",
    "\n",
    "guess_solution = gauss(A, b, x, n)\n",
    "print(guess_solution, \"\\n\")\n",
    "\n",
    "print(\"Real solution:\")\n",
    "\n",
    "real_solution = np.linalg.solve(A, b)\n",
    "for i in range(0, len(real_solution)):\n",
    "    print(\"x\", i + 1, \"=\", real_solution[i])\n",
    "print(real_solution)"
   ]
  },
  {
   "cell_type": "code",
   "execution_count": 193,
   "metadata": {},
   "outputs": [
    {
     "name": "stdout",
     "output_type": "stream",
     "text": [
      "Result = [-0.0833  0.25   -0.125 ] total 3 iterations\n"
     ]
    }
   ],
   "source": [
    "# Zeidelio metodas 2\n",
    "\"\"\"\n",
    "https://github.com/leandroliveira6/GaussSeidelMethod/blob/master/gaussseibelmethod.py\n",
    "\"\"\"\n",
    "def GaussSeidel(A, b, x0, N, TOL):\n",
    "    n = len(A)\n",
    "    k = 1\n",
    "    while k <= N:\n",
    "        x = np.zeros(n)\n",
    "        for i in range(n):\n",
    "            s = 0.0\n",
    "            for j in range(i):\n",
    "                s += A[i, j] * x[j]\n",
    "            for j in range(i + 1, n):\n",
    "                s += A[i, j] * x0[j]\n",
    "            x[i] = (b[i] - s) / A[i, i]\n",
    "        if np.linalg.norm(x - x0) < TOL:\n",
    "            return x, k\n",
    "        k += 1\n",
    "        x0 = np.copy(x)\n",
    "    return x0, k\n",
    "\n",
    "\n",
    "A = np.array([[6, 3, 0], [3, 6, 3], [0, 3, 6]])\n",
    "b = [0, 1, 0]\n",
    "guess = [0, 0, 0]\n",
    "\n",
    "x, n = GaussSeidel(A, b, guess, 2, 0.00000001)\n",
    "print(\"Result = {} total {} iterations\".format(x.round(4), n))\n"
   ]
  }
 ],
 "metadata": {
  "kernelspec": {
   "display_name": "Python 3",
   "language": "python",
   "name": "python3"
  },
  "language_info": {
   "codemirror_mode": {
    "name": "ipython",
    "version": 3
   },
   "file_extension": ".py",
   "mimetype": "text/x-python",
   "name": "python",
   "nbconvert_exporter": "python",
   "pygments_lexer": "ipython3",
   "version": "3.7.1"
  }
 },
 "nbformat": 4,
 "nbformat_minor": 2
}
